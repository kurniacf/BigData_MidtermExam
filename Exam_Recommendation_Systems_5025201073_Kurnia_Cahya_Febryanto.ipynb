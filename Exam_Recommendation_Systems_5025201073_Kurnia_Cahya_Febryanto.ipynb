{
  "nbformat": 4,
  "nbformat_minor": 0,
  "metadata": {
    "colab": {
      "provenance": [],
      "authorship_tag": "ABX9TyObZewffZ614Wlp7Iq6psPe"
    },
    "kernelspec": {
      "name": "python3",
      "display_name": "Python 3"
    },
    "language_info": {
      "name": "python"
    }
  },
  "cells": [
    {
      "cell_type": "markdown",
      "source": [
        "# BIG DATA MIDDLE TERM EXAM\n",
        "## Recommendation Systems \n",
        "- Name: Kurnia Cahya Febryanto\n",
        "- Student ID: 5025201073\n",
        "- Class: Big Data A\n",
        "- Lecturer: Abdul Munif, S.Kom., M.Sc."
      ],
      "metadata": {
        "id": "D5Cr08Lhd9g-"
      }
    },
    {
      "cell_type": "markdown",
      "source": [
        "## Get File from Google Drive"
      ],
      "metadata": {
        "id": "n_bc__68faPr"
      }
    },
    {
      "cell_type": "code",
      "execution_count": 2,
      "metadata": {
        "colab": {
          "base_uri": "https://localhost:8080/"
        },
        "id": "PKdSMBxWd33F",
        "outputId": "3d369752-0569-48f8-9294-c21a4e700828"
      },
      "outputs": [
        {
          "output_type": "stream",
          "name": "stdout",
          "text": [
            "Drive already mounted at /content/gdrive; to attempt to forcibly remount, call drive.mount(\"/content/gdrive\", force_remount=True).\n"
          ]
        }
      ],
      "source": [
        "# To be able to use your data stored in your Google Drive you first need to mount your Google Drive so you can load and save files to it. \n",
        "from google.colab import drive\n",
        "drive.mount('/content/gdrive')\n",
        "#You'll need to put in a token which Google will generate for you as soon as you click on the link"
      ]
    },
    {
      "cell_type": "code",
      "source": [
        "import pandas as pd\n",
        "import csv\n",
        "\n",
        "# Read the Excel file located in your Google Drive\n",
        "data_file = '/content/gdrive/My Drive/BigData Source/market-basket.csv'\n",
        "\n",
        "with open(data_file, 'r') as f:\n",
        "    temp_lines = f.readline() + '\\n' + f.readline()\n",
        "    dialect = csv.Sniffer().sniff(temp_lines, delimiters=';,')\n",
        "    f.seek(0)\n",
        "    data = pd.read_csv(f, dialect=dialect, error_bad_lines=False)\n",
        "data.head()"
      ],
      "metadata": {
        "colab": {
          "base_uri": "https://localhost:8080/",
          "height": 500
        },
        "id": "TVbQll2VgLxJ",
        "outputId": "200e5024-d6bb-46db-b4e0-3481a7315787"
      },
      "execution_count": 3,
      "outputs": [
        {
          "output_type": "stream",
          "name": "stderr",
          "text": [
            "<ipython-input-3-5a17a097eaaf>:11: FutureWarning: The error_bad_lines argument has been deprecated and will be removed in a future version. Use on_bad_lines in the future.\n",
            "\n",
            "\n",
            "  data = pd.read_csv(f, dialect=dialect, error_bad_lines=False)\n",
            "<ipython-input-3-5a17a097eaaf>:11: DtypeWarning: Columns (0) have mixed types. Specify dtype option on import or set low_memory=False.\n",
            "  data = pd.read_csv(f, dialect=dialect, error_bad_lines=False)\n"
          ]
        },
        {
          "output_type": "execute_result",
          "data": {
            "text/plain": [
              "   BillNo                             Itemname  Quantity              Date  \\\n",
              "0  536365   WHITE HANGING HEART T-LIGHT HOLDER         6  01.12.2010 08:26   \n",
              "1  536365                  WHITE METAL LANTERN         6  01.12.2010 08:26   \n",
              "2  536365       CREAM CUPID HEARTS COAT HANGER         8  01.12.2010 08:26   \n",
              "3  536365  KNITTED UNION FLAG HOT WATER BOTTLE         6  01.12.2010 08:26   \n",
              "4  536365       RED WOOLLY HOTTIE WHITE HEART.         6  01.12.2010 08:26   \n",
              "\n",
              "  Price  CustomerID         Country  \n",
              "0  2,55     17850.0  United Kingdom  \n",
              "1  3,39     17850.0  United Kingdom  \n",
              "2  2,75     17850.0  United Kingdom  \n",
              "3  3,39     17850.0  United Kingdom  \n",
              "4  3,39     17850.0  United Kingdom  "
            ],
            "text/html": [
              "\n",
              "  <div id=\"df-d2c3a6b0-5752-44ed-a735-6513b54b2ba0\">\n",
              "    <div class=\"colab-df-container\">\n",
              "      <div>\n",
              "<style scoped>\n",
              "    .dataframe tbody tr th:only-of-type {\n",
              "        vertical-align: middle;\n",
              "    }\n",
              "\n",
              "    .dataframe tbody tr th {\n",
              "        vertical-align: top;\n",
              "    }\n",
              "\n",
              "    .dataframe thead th {\n",
              "        text-align: right;\n",
              "    }\n",
              "</style>\n",
              "<table border=\"1\" class=\"dataframe\">\n",
              "  <thead>\n",
              "    <tr style=\"text-align: right;\">\n",
              "      <th></th>\n",
              "      <th>BillNo</th>\n",
              "      <th>Itemname</th>\n",
              "      <th>Quantity</th>\n",
              "      <th>Date</th>\n",
              "      <th>Price</th>\n",
              "      <th>CustomerID</th>\n",
              "      <th>Country</th>\n",
              "    </tr>\n",
              "  </thead>\n",
              "  <tbody>\n",
              "    <tr>\n",
              "      <th>0</th>\n",
              "      <td>536365</td>\n",
              "      <td>WHITE HANGING HEART T-LIGHT HOLDER</td>\n",
              "      <td>6</td>\n",
              "      <td>01.12.2010 08:26</td>\n",
              "      <td>2,55</td>\n",
              "      <td>17850.0</td>\n",
              "      <td>United Kingdom</td>\n",
              "    </tr>\n",
              "    <tr>\n",
              "      <th>1</th>\n",
              "      <td>536365</td>\n",
              "      <td>WHITE METAL LANTERN</td>\n",
              "      <td>6</td>\n",
              "      <td>01.12.2010 08:26</td>\n",
              "      <td>3,39</td>\n",
              "      <td>17850.0</td>\n",
              "      <td>United Kingdom</td>\n",
              "    </tr>\n",
              "    <tr>\n",
              "      <th>2</th>\n",
              "      <td>536365</td>\n",
              "      <td>CREAM CUPID HEARTS COAT HANGER</td>\n",
              "      <td>8</td>\n",
              "      <td>01.12.2010 08:26</td>\n",
              "      <td>2,75</td>\n",
              "      <td>17850.0</td>\n",
              "      <td>United Kingdom</td>\n",
              "    </tr>\n",
              "    <tr>\n",
              "      <th>3</th>\n",
              "      <td>536365</td>\n",
              "      <td>KNITTED UNION FLAG HOT WATER BOTTLE</td>\n",
              "      <td>6</td>\n",
              "      <td>01.12.2010 08:26</td>\n",
              "      <td>3,39</td>\n",
              "      <td>17850.0</td>\n",
              "      <td>United Kingdom</td>\n",
              "    </tr>\n",
              "    <tr>\n",
              "      <th>4</th>\n",
              "      <td>536365</td>\n",
              "      <td>RED WOOLLY HOTTIE WHITE HEART.</td>\n",
              "      <td>6</td>\n",
              "      <td>01.12.2010 08:26</td>\n",
              "      <td>3,39</td>\n",
              "      <td>17850.0</td>\n",
              "      <td>United Kingdom</td>\n",
              "    </tr>\n",
              "  </tbody>\n",
              "</table>\n",
              "</div>\n",
              "      <button class=\"colab-df-convert\" onclick=\"convertToInteractive('df-d2c3a6b0-5752-44ed-a735-6513b54b2ba0')\"\n",
              "              title=\"Convert this dataframe to an interactive table.\"\n",
              "              style=\"display:none;\">\n",
              "        \n",
              "  <svg xmlns=\"http://www.w3.org/2000/svg\" height=\"24px\"viewBox=\"0 0 24 24\"\n",
              "       width=\"24px\">\n",
              "    <path d=\"M0 0h24v24H0V0z\" fill=\"none\"/>\n",
              "    <path d=\"M18.56 5.44l.94 2.06.94-2.06 2.06-.94-2.06-.94-.94-2.06-.94 2.06-2.06.94zm-11 1L8.5 8.5l.94-2.06 2.06-.94-2.06-.94L8.5 2.5l-.94 2.06-2.06.94zm10 10l.94 2.06.94-2.06 2.06-.94-2.06-.94-.94-2.06-.94 2.06-2.06.94z\"/><path d=\"M17.41 7.96l-1.37-1.37c-.4-.4-.92-.59-1.43-.59-.52 0-1.04.2-1.43.59L10.3 9.45l-7.72 7.72c-.78.78-.78 2.05 0 2.83L4 21.41c.39.39.9.59 1.41.59.51 0 1.02-.2 1.41-.59l7.78-7.78 2.81-2.81c.8-.78.8-2.07 0-2.86zM5.41 20L4 18.59l7.72-7.72 1.47 1.35L5.41 20z\"/>\n",
              "  </svg>\n",
              "      </button>\n",
              "      \n",
              "  <style>\n",
              "    .colab-df-container {\n",
              "      display:flex;\n",
              "      flex-wrap:wrap;\n",
              "      gap: 12px;\n",
              "    }\n",
              "\n",
              "    .colab-df-convert {\n",
              "      background-color: #E8F0FE;\n",
              "      border: none;\n",
              "      border-radius: 50%;\n",
              "      cursor: pointer;\n",
              "      display: none;\n",
              "      fill: #1967D2;\n",
              "      height: 32px;\n",
              "      padding: 0 0 0 0;\n",
              "      width: 32px;\n",
              "    }\n",
              "\n",
              "    .colab-df-convert:hover {\n",
              "      background-color: #E2EBFA;\n",
              "      box-shadow: 0px 1px 2px rgba(60, 64, 67, 0.3), 0px 1px 3px 1px rgba(60, 64, 67, 0.15);\n",
              "      fill: #174EA6;\n",
              "    }\n",
              "\n",
              "    [theme=dark] .colab-df-convert {\n",
              "      background-color: #3B4455;\n",
              "      fill: #D2E3FC;\n",
              "    }\n",
              "\n",
              "    [theme=dark] .colab-df-convert:hover {\n",
              "      background-color: #434B5C;\n",
              "      box-shadow: 0px 1px 3px 1px rgba(0, 0, 0, 0.15);\n",
              "      filter: drop-shadow(0px 1px 2px rgba(0, 0, 0, 0.3));\n",
              "      fill: #FFFFFF;\n",
              "    }\n",
              "  </style>\n",
              "\n",
              "      <script>\n",
              "        const buttonEl =\n",
              "          document.querySelector('#df-d2c3a6b0-5752-44ed-a735-6513b54b2ba0 button.colab-df-convert');\n",
              "        buttonEl.style.display =\n",
              "          google.colab.kernel.accessAllowed ? 'block' : 'none';\n",
              "\n",
              "        async function convertToInteractive(key) {\n",
              "          const element = document.querySelector('#df-d2c3a6b0-5752-44ed-a735-6513b54b2ba0');\n",
              "          const dataTable =\n",
              "            await google.colab.kernel.invokeFunction('convertToInteractive',\n",
              "                                                     [key], {});\n",
              "          if (!dataTable) return;\n",
              "\n",
              "          const docLinkHtml = 'Like what you see? Visit the ' +\n",
              "            '<a target=\"_blank\" href=https://colab.research.google.com/notebooks/data_table.ipynb>data table notebook</a>'\n",
              "            + ' to learn more about interactive tables.';\n",
              "          element.innerHTML = '';\n",
              "          dataTable['output_type'] = 'display_data';\n",
              "          await google.colab.output.renderOutput(dataTable, element);\n",
              "          const docLink = document.createElement('div');\n",
              "          docLink.innerHTML = docLinkHtml;\n",
              "          element.appendChild(docLink);\n",
              "        }\n",
              "      </script>\n",
              "    </div>\n",
              "  </div>\n",
              "  "
            ]
          },
          "metadata": {},
          "execution_count": 3
        }
      ]
    },
    {
      "cell_type": "markdown",
      "source": [
        "## Market Basket Analysis"
      ],
      "metadata": {
        "id": "8R0bLne4h5VC"
      }
    },
    {
      "cell_type": "code",
      "source": [
        "%%capture\n",
        "!sudo apt-get update --fix-missing\n",
        "\n",
        "!apt-get install openjdk-8-jdk-headless -qq > /dev/null\n",
        "\n",
        "!wget -q https://archive.apache.org/dist/spark/spark-3.0.0/spark-3.0.0-bin-hadoop3.2.tgz\n",
        "#!wget -q https://downloads.apache.org/spark/spark-3.0.0/spark-3.0.0-bin-hadoop3.2.tgz\n",
        "\n",
        "!mv spark-3.0.0-bin-hadoop3.2.tgz sparkkk\n",
        "!tar xf sparkkk\n",
        "!pip install -q findspark"
      ],
      "metadata": {
        "id": "XlIBOZWeh7rv"
      },
      "execution_count": 4,
      "outputs": []
    },
    {
      "cell_type": "code",
      "source": [
        "!pip install spark"
      ],
      "metadata": {
        "colab": {
          "base_uri": "https://localhost:8080/"
        },
        "id": "Qj6rtdB3ibN8",
        "outputId": "bd459771-572f-4a3d-e5ca-bb9ce0354945"
      },
      "execution_count": 5,
      "outputs": [
        {
          "output_type": "stream",
          "name": "stdout",
          "text": [
            "Looking in indexes: https://pypi.org/simple, https://us-python.pkg.dev/colab-wheels/public/simple/\n",
            "Requirement already satisfied: spark in /usr/local/lib/python3.9/dist-packages (0.2.1)\n"
          ]
        }
      ]
    },
    {
      "cell_type": "code",
      "source": [
        "# Sets up the environment variables for Java and Spark, initializes the findspark library\n",
        "# Creates a new SparkSession for a PySpark application named 'fpgrowth'.\n",
        "import os\n",
        "os.environ[\"JAVA_HOME\"] = \"/usr/lib/jvm/java-8-openjdk-amd64\"\n",
        "os.environ[\"SPARK_HOME\"] = \"/content/spark-3.0.0-bin-hadoop3.2\"\n",
        "\n",
        "import findspark\n",
        "findspark.init()\n",
        "\n",
        "from pyspark.sql import SparkSession\n",
        "spark = SparkSession.builder.master(\"local[*]\").getOrCreate()\n",
        "\n",
        "from pyspark.sql import SparkSession\n",
        "spark = SparkSession \\\n",
        "    .builder \\\n",
        "    .appName('fpgrowth') \\\n",
        "    .getOrCreate()\n",
        "\n",
        "spark   "
      ],
      "metadata": {
        "colab": {
          "base_uri": "https://localhost:8080/",
          "height": 222
        },
        "id": "NA8qSudoigJg",
        "outputId": "a2cc3dd4-04e6-46bb-f1c9-58141d0e9b33"
      },
      "execution_count": 6,
      "outputs": [
        {
          "output_type": "execute_result",
          "data": {
            "text/plain": [
              "<pyspark.sql.session.SparkSession at 0x7f4c90349550>"
            ],
            "text/html": [
              "\n",
              "            <div>\n",
              "                <p><b>SparkSession - in-memory</b></p>\n",
              "                \n",
              "        <div>\n",
              "            <p><b>SparkContext</b></p>\n",
              "\n",
              "            <p><a href=\"http://0372b1f56115:4040\">Spark UI</a></p>\n",
              "\n",
              "            <dl>\n",
              "              <dt>Version</dt>\n",
              "                <dd><code>v3.0.0</code></dd>\n",
              "              <dt>Master</dt>\n",
              "                <dd><code>local[*]</code></dd>\n",
              "              <dt>AppName</dt>\n",
              "                <dd><code>pyspark-shell</code></dd>\n",
              "            </dl>\n",
              "        </div>\n",
              "        \n",
              "            </div>\n",
              "        "
            ]
          },
          "metadata": {},
          "execution_count": 6
        }
      ]
    },
    {
      "cell_type": "code",
      "source": [
        "data = data.astype(str)"
      ],
      "metadata": {
        "id": "MGMUux-Vj6g5"
      },
      "execution_count": 7,
      "outputs": []
    },
    {
      "cell_type": "code",
      "source": [
        "# Create Spark DataFrame from the pandas DataFrame\n",
        "sparkdata = spark.createDataFrame(data)"
      ],
      "metadata": {
        "colab": {
          "base_uri": "https://localhost:8080/"
        },
        "id": "fFvuSjmQj8Wf",
        "outputId": "14b50b98-7a51-4a8e-f381-848accad23ca"
      },
      "execution_count": 8,
      "outputs": [
        {
          "output_type": "stream",
          "name": "stderr",
          "text": [
            "/content/spark-3.0.0-bin-hadoop3.2/python/pyspark/sql/pandas/conversion.py:327: FutureWarning: iteritems is deprecated and will be removed in a future version. Use .items instead.\n",
            "  for column, series in pdf.iteritems():\n"
          ]
        }
      ]
    },
    {
      "cell_type": "code",
      "source": [
        "from pyspark.sql import functions as F\n",
        "\n",
        "basketdata = sparkdata.dropDuplicates(['BillNo', 'Itemname']).sort('BillNo')\n",
        "basketdata = basketdata.groupBy(\"BillNo\").agg(F.collect_list(\"Itemname\")).sort('BillNo')"
      ],
      "metadata": {
        "id": "aXwZzoCtinZ5"
      },
      "execution_count": 10,
      "outputs": []
    },
    {
      "cell_type": "markdown",
      "source": [
        "### minSupport = 0.006 and minConfidence == 0.006"
      ],
      "metadata": {
        "id": "CRE4HAeupj1a"
      }
    },
    {
      "cell_type": "code",
      "source": [
        "from pyspark.ml.fpm import FPGrowth\n",
        "\n",
        "# Frequent Pattern Growth\n",
        "fpGrowth = FPGrowth(itemsCol=\"collect_list(Itemname)\", minSupport=0.006, minConfidence=0.006) \n",
        "model = fpGrowth.fit(basketdata)\n",
        "\n",
        "# Display frequent itemsets.\n",
        "model.freqItemsets.show()\n",
        "items = model.freqItemsets\n",
        "\n",
        "# Display generated association rules.\n",
        "model.associationRules.show()\n",
        "rules = model.associationRules\n",
        "\n",
        "# Transform examines the input items against all the association rules and summarize the\n",
        "# consequents as prediction\n",
        "model.transform(basketdata).show()\n",
        "transformed = model.transform(basketdata)\n"
      ],
      "metadata": {
        "colab": {
          "base_uri": "https://localhost:8080/"
        },
        "id": "YeFMckk4kgEn",
        "outputId": "a1c94f53-3775-45f3-80b1-ba673c7cf455"
      },
      "execution_count": 11,
      "outputs": [
        {
          "output_type": "stream",
          "name": "stdout",
          "text": [
            "+--------------------+----+\n",
            "|               items|freq|\n",
            "+--------------------+----+\n",
            "|[FELTCRAFT BUTTER...| 471|\n",
            "|[FELTCRAFT BUTTER...| 167|\n",
            "|[VINTAGE CHRISTMA...| 334|\n",
            "|[ROCKING HORSE RE...| 245|\n",
            "|[6 RIBBONS SHIMME...| 198|\n",
            "|[VICTORIAN SEWING...| 160|\n",
            "|[PARTY TIME PENCI...| 133|\n",
            "|[WHITE HANGING HE...|2202|\n",
            "|[STRAWBERRY FAIRY...| 198|\n",
            "|[CAMOUFLAGE LED T...| 160|\n",
            "|[PINK LOVE HEART ...| 133|\n",
            "|[JUMBO BAG RED RE...|2064|\n",
            "|[JUMBO BAG RED RE...| 442|\n",
            "|[JUMBO BAG VINTAG...| 470|\n",
            "|[JUMBO BAG VINTAG...| 136|\n",
            "|[JUMBO BAG VINTAG...| 319|\n",
            "|[JUMBO BAG VINTAG...| 130|\n",
            "|[JUMBO BAG VINTAG...| 154|\n",
            "|[JUMBO BAG VINTAG...| 180|\n",
            "|[JUMBO BAG VINTAG...| 132|\n",
            "+--------------------+----+\n",
            "only showing top 20 rows\n",
            "\n",
            "+--------------------+--------------------+-------------------+------------------+\n",
            "|          antecedent|          consequent|         confidence|              lift|\n",
            "+--------------------+--------------------+-------------------+------------------+\n",
            "|[HOT WATER BOTTLE...|[LOVE HOT WATER B...| 0.3009079118028534|14.018426007280029|\n",
            "|[HOT WATER BOTTLE...|[CHOCOLATE HOT WA...| 0.3450064850843061| 8.940042447824549|\n",
            "|[HOT WATER BOTTLE...|[PAPER CHAIN KIT ...|0.21660181582360571| 4.105201343995425|\n",
            "|[HOT WATER BOTTLE...|[GARDENERS KNEELI...|0.22568093385214008| 5.402128254186642|\n",
            "|[HOT WATER BOTTLE...|[SCOTTIE DOG HOT ...|0.25551232166018156| 7.292705433629135|\n",
            "|[HOT WATER BOTTLE...|[HAND WARMER RED ...|0.17250324254215305| 9.484613561397618|\n",
            "|[HOT WATER BOTTLE...|[HAND WARMER OWL ...| 0.2127107652399481|7.1000821377395935|\n",
            "|[HOT WATER BOTTLE...|[HOT WATER BOTTLE...| 0.2788586251621271| 9.409523982690281|\n",
            "|[HOT WATER BOTTLE...|[HOT WATER BOTTLE...| 0.3411154345006485|11.673907831891862|\n",
            "|[HOT WATER BOTTLE...|[HAND WARMER SCOT...|0.17769130998702984| 7.075968471046006|\n",
            "|[HOT WATER BOTTLE...|[HAND WARMER UNIO...|0.17250324254215305| 7.801540173675702|\n",
            "|[RECIPE BOX PANTR...|[JUMBO BAG RED RE...| 0.7823529411764706| 8.211294459644323|\n",
            "|[CHARLOTTE BAG PI...|[LUNCH BAG RED RE...| 0.6666666666666666| 9.371836469824789|\n",
            "|[CHARLOTTE BAG PI...|[RED RETROSPOT CH...| 0.8333333333333334|17.560797665369652|\n",
            "|[CHARLOTTE BAG PI...|[LUNCH BAG  BLACK...| 0.6519607843137255| 11.20906862745098|\n",
            "|[CHARLOTTE BAG PI...|[WOODLAND CHARLOT...| 0.7892156862745098|20.673252009389003|\n",
            "|[CHARLOTTE BAG PI...|[CHARLOTTE BAG SU...| 0.7107843137254902|17.597394957983195|\n",
            "|[CHARLOTTE BAG PI...|[STRAWBERRY CHARL...| 0.6764705882352942| 20.46701445941505|\n",
            "|[STRAWBERRY CHARL...|[RED RETROSPOT CH...| 0.9032258064516129| 19.03363875988452|\n",
            "|[STRAWBERRY CHARL...|[CHARLOTTE BAG SU...| 0.8387096774193549| 20.76453456221198|\n",
            "+--------------------+--------------------+-------------------+------------------+\n",
            "only showing top 20 rows\n",
            "\n",
            "+------+----------------------+--------------------+\n",
            "|BillNo|collect_list(Itemname)|          prediction|\n",
            "+------+----------------------+--------------------+\n",
            "|536365|  [KNITTED UNION FL...|[JUMBO BAG RED RE...|\n",
            "|536366|  [HAND WARMER UNIO...|[HAND WARMER RED ...|\n",
            "|536367|  [BOX OF VINTAGE J...|[POPPY'S PLAYHOUS...|\n",
            "|536368|  [YELLOW COAT RACK...|[JAM JAR WITH PIN...|\n",
            "|536369|  [BATH BUILDING BL...|[HOME BUILDING BL...|\n",
            "|536370|  [SPACEBOY LUNCH B...|[PACK OF 72 RETRO...|\n",
            "|536371|  [PAPER CHAIN KIT ...|[JUMBO BAG VINTAG...|\n",
            "|536372|  [HAND WARMER UNIO...|[HAND WARMER RED ...|\n",
            "|536373|  [GLASS STAR FROST...|[VICTORIAN GLASS ...|\n",
            "|536374|  [VICTORIAN SEWING...|                  []|\n",
            "|536375|  [SAVE THE PLANET ...|[VICTORIAN GLASS ...|\n",
            "|536376|  [RED HANGING HEAR...|[LOVE HOT WATER B...|\n",
            "|536377|  [HAND WARMER RED ...|[HAND WARMER RED ...|\n",
            "|536378|  [PACK OF 60 PINK ...|[JUMBO BAG RED RE...|\n",
            "|536380|  [JAM MAKING SET P...|[JAM JAR WITH PIN...|\n",
            "|536381|  [ZINC WILLIE WINK...|[SMALL HEART MEAS...|\n",
            "|536382|  [VINTAGE SNAKES &...|[SMALL HEART MEAS...|\n",
            "|536384|  [ENAMEL BREAD BIN...|[WHITE HANGING HE...|\n",
            "|536385|  [TRADITIONAL CHRI...|[CHARLOTTE BAG DO...|\n",
            "|536386|  [JUMBO BAG RED RE...|[JUMBO BAG PINK P...|\n",
            "+------+----------------------+--------------------+\n",
            "only showing top 20 rows\n",
            "\n"
          ]
        }
      ]
    },
    {
      "cell_type": "code",
      "source": [
        "# Convert the Spark DataFrame back to a Pandas DataFrame using Arrow\n",
        "result_pdf = items.select(\"*\").toPandas()\n",
        "result_pdf.head()"
      ],
      "metadata": {
        "colab": {
          "base_uri": "https://localhost:8080/",
          "height": 206
        },
        "id": "_bc5LFxhoWlD",
        "outputId": "9176a1de-64e7-425e-8b6e-f4c4d188b176"
      },
      "execution_count": 12,
      "outputs": [
        {
          "output_type": "execute_result",
          "data": {
            "text/plain": [
              "                                               items  freq\n",
              "0                       [FELTCRAFT BUTTERFLY HEARTS]   471\n",
              "1  [FELTCRAFT BUTTERFLY HEARTS, FELTCRAFT 6 FLOWE...   167\n",
              "2                       [VINTAGE CHRISTMAS STOCKING]   334\n",
              "3                      [ROCKING HORSE RED CHRISTMAS]   245\n",
              "4                       [6 RIBBONS SHIMMERING PINKS]   198"
            ],
            "text/html": [
              "\n",
              "  <div id=\"df-4328e1d8-fcc7-4cbc-b1c9-af89e850f295\">\n",
              "    <div class=\"colab-df-container\">\n",
              "      <div>\n",
              "<style scoped>\n",
              "    .dataframe tbody tr th:only-of-type {\n",
              "        vertical-align: middle;\n",
              "    }\n",
              "\n",
              "    .dataframe tbody tr th {\n",
              "        vertical-align: top;\n",
              "    }\n",
              "\n",
              "    .dataframe thead th {\n",
              "        text-align: right;\n",
              "    }\n",
              "</style>\n",
              "<table border=\"1\" class=\"dataframe\">\n",
              "  <thead>\n",
              "    <tr style=\"text-align: right;\">\n",
              "      <th></th>\n",
              "      <th>items</th>\n",
              "      <th>freq</th>\n",
              "    </tr>\n",
              "  </thead>\n",
              "  <tbody>\n",
              "    <tr>\n",
              "      <th>0</th>\n",
              "      <td>[FELTCRAFT BUTTERFLY HEARTS]</td>\n",
              "      <td>471</td>\n",
              "    </tr>\n",
              "    <tr>\n",
              "      <th>1</th>\n",
              "      <td>[FELTCRAFT BUTTERFLY HEARTS, FELTCRAFT 6 FLOWE...</td>\n",
              "      <td>167</td>\n",
              "    </tr>\n",
              "    <tr>\n",
              "      <th>2</th>\n",
              "      <td>[VINTAGE CHRISTMAS STOCKING]</td>\n",
              "      <td>334</td>\n",
              "    </tr>\n",
              "    <tr>\n",
              "      <th>3</th>\n",
              "      <td>[ROCKING HORSE RED CHRISTMAS]</td>\n",
              "      <td>245</td>\n",
              "    </tr>\n",
              "    <tr>\n",
              "      <th>4</th>\n",
              "      <td>[6 RIBBONS SHIMMERING PINKS]</td>\n",
              "      <td>198</td>\n",
              "    </tr>\n",
              "  </tbody>\n",
              "</table>\n",
              "</div>\n",
              "      <button class=\"colab-df-convert\" onclick=\"convertToInteractive('df-4328e1d8-fcc7-4cbc-b1c9-af89e850f295')\"\n",
              "              title=\"Convert this dataframe to an interactive table.\"\n",
              "              style=\"display:none;\">\n",
              "        \n",
              "  <svg xmlns=\"http://www.w3.org/2000/svg\" height=\"24px\"viewBox=\"0 0 24 24\"\n",
              "       width=\"24px\">\n",
              "    <path d=\"M0 0h24v24H0V0z\" fill=\"none\"/>\n",
              "    <path d=\"M18.56 5.44l.94 2.06.94-2.06 2.06-.94-2.06-.94-.94-2.06-.94 2.06-2.06.94zm-11 1L8.5 8.5l.94-2.06 2.06-.94-2.06-.94L8.5 2.5l-.94 2.06-2.06.94zm10 10l.94 2.06.94-2.06 2.06-.94-2.06-.94-.94-2.06-.94 2.06-2.06.94z\"/><path d=\"M17.41 7.96l-1.37-1.37c-.4-.4-.92-.59-1.43-.59-.52 0-1.04.2-1.43.59L10.3 9.45l-7.72 7.72c-.78.78-.78 2.05 0 2.83L4 21.41c.39.39.9.59 1.41.59.51 0 1.02-.2 1.41-.59l7.78-7.78 2.81-2.81c.8-.78.8-2.07 0-2.86zM5.41 20L4 18.59l7.72-7.72 1.47 1.35L5.41 20z\"/>\n",
              "  </svg>\n",
              "      </button>\n",
              "      \n",
              "  <style>\n",
              "    .colab-df-container {\n",
              "      display:flex;\n",
              "      flex-wrap:wrap;\n",
              "      gap: 12px;\n",
              "    }\n",
              "\n",
              "    .colab-df-convert {\n",
              "      background-color: #E8F0FE;\n",
              "      border: none;\n",
              "      border-radius: 50%;\n",
              "      cursor: pointer;\n",
              "      display: none;\n",
              "      fill: #1967D2;\n",
              "      height: 32px;\n",
              "      padding: 0 0 0 0;\n",
              "      width: 32px;\n",
              "    }\n",
              "\n",
              "    .colab-df-convert:hover {\n",
              "      background-color: #E2EBFA;\n",
              "      box-shadow: 0px 1px 2px rgba(60, 64, 67, 0.3), 0px 1px 3px 1px rgba(60, 64, 67, 0.15);\n",
              "      fill: #174EA6;\n",
              "    }\n",
              "\n",
              "    [theme=dark] .colab-df-convert {\n",
              "      background-color: #3B4455;\n",
              "      fill: #D2E3FC;\n",
              "    }\n",
              "\n",
              "    [theme=dark] .colab-df-convert:hover {\n",
              "      background-color: #434B5C;\n",
              "      box-shadow: 0px 1px 3px 1px rgba(0, 0, 0, 0.15);\n",
              "      filter: drop-shadow(0px 1px 2px rgba(0, 0, 0, 0.3));\n",
              "      fill: #FFFFFF;\n",
              "    }\n",
              "  </style>\n",
              "\n",
              "      <script>\n",
              "        const buttonEl =\n",
              "          document.querySelector('#df-4328e1d8-fcc7-4cbc-b1c9-af89e850f295 button.colab-df-convert');\n",
              "        buttonEl.style.display =\n",
              "          google.colab.kernel.accessAllowed ? 'block' : 'none';\n",
              "\n",
              "        async function convertToInteractive(key) {\n",
              "          const element = document.querySelector('#df-4328e1d8-fcc7-4cbc-b1c9-af89e850f295');\n",
              "          const dataTable =\n",
              "            await google.colab.kernel.invokeFunction('convertToInteractive',\n",
              "                                                     [key], {});\n",
              "          if (!dataTable) return;\n",
              "\n",
              "          const docLinkHtml = 'Like what you see? Visit the ' +\n",
              "            '<a target=\"_blank\" href=https://colab.research.google.com/notebooks/data_table.ipynb>data table notebook</a>'\n",
              "            + ' to learn more about interactive tables.';\n",
              "          element.innerHTML = '';\n",
              "          dataTable['output_type'] = 'display_data';\n",
              "          await google.colab.output.renderOutput(dataTable, element);\n",
              "          const docLink = document.createElement('div');\n",
              "          docLink.innerHTML = docLinkHtml;\n",
              "          element.appendChild(docLink);\n",
              "        }\n",
              "      </script>\n",
              "    </div>\n",
              "  </div>\n",
              "  "
            ]
          },
          "metadata": {},
          "execution_count": 12
        }
      ]
    },
    {
      "cell_type": "code",
      "source": [
        "result_pdf.to_excel('result_pdfFreq.xlsx')"
      ],
      "metadata": {
        "id": "Ruf6H_l4ofXd"
      },
      "execution_count": 13,
      "outputs": []
    },
    {
      "cell_type": "code",
      "source": [
        "rules_pdf = rules.select(\"*\").toPandas()\n",
        "rules_pdf.head()"
      ],
      "metadata": {
        "colab": {
          "base_uri": "https://localhost:8080/",
          "height": 337
        },
        "id": "8mJyIKtRorRD",
        "outputId": "721ac09f-1f3c-4bb5-9782-948af1f898f8"
      },
      "execution_count": 14,
      "outputs": [
        {
          "output_type": "execute_result",
          "data": {
            "text/plain": [
              "                     antecedent                          consequent  \\\n",
              "0  [HOT WATER BOTTLE KEEP CALM]             [LOVE HOT WATER BOTTLE]   \n",
              "1  [HOT WATER BOTTLE KEEP CALM]        [CHOCOLATE HOT WATER BOTTLE]   \n",
              "2  [HOT WATER BOTTLE KEEP CALM]    [PAPER CHAIN KIT 50'S CHRISTMAS]   \n",
              "3  [HOT WATER BOTTLE KEEP CALM]  [GARDENERS KNEELING PAD KEEP CALM]   \n",
              "4  [HOT WATER BOTTLE KEEP CALM]      [SCOTTIE DOG HOT WATER BOTTLE]   \n",
              "\n",
              "   confidence       lift  \n",
              "0    0.300908  14.018426  \n",
              "1    0.345006   8.940042  \n",
              "2    0.216602   4.105201  \n",
              "3    0.225681   5.402128  \n",
              "4    0.255512   7.292705  "
            ],
            "text/html": [
              "\n",
              "  <div id=\"df-f792979b-ceb9-408b-9a6b-7702c7adffe9\">\n",
              "    <div class=\"colab-df-container\">\n",
              "      <div>\n",
              "<style scoped>\n",
              "    .dataframe tbody tr th:only-of-type {\n",
              "        vertical-align: middle;\n",
              "    }\n",
              "\n",
              "    .dataframe tbody tr th {\n",
              "        vertical-align: top;\n",
              "    }\n",
              "\n",
              "    .dataframe thead th {\n",
              "        text-align: right;\n",
              "    }\n",
              "</style>\n",
              "<table border=\"1\" class=\"dataframe\">\n",
              "  <thead>\n",
              "    <tr style=\"text-align: right;\">\n",
              "      <th></th>\n",
              "      <th>antecedent</th>\n",
              "      <th>consequent</th>\n",
              "      <th>confidence</th>\n",
              "      <th>lift</th>\n",
              "    </tr>\n",
              "  </thead>\n",
              "  <tbody>\n",
              "    <tr>\n",
              "      <th>0</th>\n",
              "      <td>[HOT WATER BOTTLE KEEP CALM]</td>\n",
              "      <td>[LOVE HOT WATER BOTTLE]</td>\n",
              "      <td>0.300908</td>\n",
              "      <td>14.018426</td>\n",
              "    </tr>\n",
              "    <tr>\n",
              "      <th>1</th>\n",
              "      <td>[HOT WATER BOTTLE KEEP CALM]</td>\n",
              "      <td>[CHOCOLATE HOT WATER BOTTLE]</td>\n",
              "      <td>0.345006</td>\n",
              "      <td>8.940042</td>\n",
              "    </tr>\n",
              "    <tr>\n",
              "      <th>2</th>\n",
              "      <td>[HOT WATER BOTTLE KEEP CALM]</td>\n",
              "      <td>[PAPER CHAIN KIT 50'S CHRISTMAS]</td>\n",
              "      <td>0.216602</td>\n",
              "      <td>4.105201</td>\n",
              "    </tr>\n",
              "    <tr>\n",
              "      <th>3</th>\n",
              "      <td>[HOT WATER BOTTLE KEEP CALM]</td>\n",
              "      <td>[GARDENERS KNEELING PAD KEEP CALM]</td>\n",
              "      <td>0.225681</td>\n",
              "      <td>5.402128</td>\n",
              "    </tr>\n",
              "    <tr>\n",
              "      <th>4</th>\n",
              "      <td>[HOT WATER BOTTLE KEEP CALM]</td>\n",
              "      <td>[SCOTTIE DOG HOT WATER BOTTLE]</td>\n",
              "      <td>0.255512</td>\n",
              "      <td>7.292705</td>\n",
              "    </tr>\n",
              "  </tbody>\n",
              "</table>\n",
              "</div>\n",
              "      <button class=\"colab-df-convert\" onclick=\"convertToInteractive('df-f792979b-ceb9-408b-9a6b-7702c7adffe9')\"\n",
              "              title=\"Convert this dataframe to an interactive table.\"\n",
              "              style=\"display:none;\">\n",
              "        \n",
              "  <svg xmlns=\"http://www.w3.org/2000/svg\" height=\"24px\"viewBox=\"0 0 24 24\"\n",
              "       width=\"24px\">\n",
              "    <path d=\"M0 0h24v24H0V0z\" fill=\"none\"/>\n",
              "    <path d=\"M18.56 5.44l.94 2.06.94-2.06 2.06-.94-2.06-.94-.94-2.06-.94 2.06-2.06.94zm-11 1L8.5 8.5l.94-2.06 2.06-.94-2.06-.94L8.5 2.5l-.94 2.06-2.06.94zm10 10l.94 2.06.94-2.06 2.06-.94-2.06-.94-.94-2.06-.94 2.06-2.06.94z\"/><path d=\"M17.41 7.96l-1.37-1.37c-.4-.4-.92-.59-1.43-.59-.52 0-1.04.2-1.43.59L10.3 9.45l-7.72 7.72c-.78.78-.78 2.05 0 2.83L4 21.41c.39.39.9.59 1.41.59.51 0 1.02-.2 1.41-.59l7.78-7.78 2.81-2.81c.8-.78.8-2.07 0-2.86zM5.41 20L4 18.59l7.72-7.72 1.47 1.35L5.41 20z\"/>\n",
              "  </svg>\n",
              "      </button>\n",
              "      \n",
              "  <style>\n",
              "    .colab-df-container {\n",
              "      display:flex;\n",
              "      flex-wrap:wrap;\n",
              "      gap: 12px;\n",
              "    }\n",
              "\n",
              "    .colab-df-convert {\n",
              "      background-color: #E8F0FE;\n",
              "      border: none;\n",
              "      border-radius: 50%;\n",
              "      cursor: pointer;\n",
              "      display: none;\n",
              "      fill: #1967D2;\n",
              "      height: 32px;\n",
              "      padding: 0 0 0 0;\n",
              "      width: 32px;\n",
              "    }\n",
              "\n",
              "    .colab-df-convert:hover {\n",
              "      background-color: #E2EBFA;\n",
              "      box-shadow: 0px 1px 2px rgba(60, 64, 67, 0.3), 0px 1px 3px 1px rgba(60, 64, 67, 0.15);\n",
              "      fill: #174EA6;\n",
              "    }\n",
              "\n",
              "    [theme=dark] .colab-df-convert {\n",
              "      background-color: #3B4455;\n",
              "      fill: #D2E3FC;\n",
              "    }\n",
              "\n",
              "    [theme=dark] .colab-df-convert:hover {\n",
              "      background-color: #434B5C;\n",
              "      box-shadow: 0px 1px 3px 1px rgba(0, 0, 0, 0.15);\n",
              "      filter: drop-shadow(0px 1px 2px rgba(0, 0, 0, 0.3));\n",
              "      fill: #FFFFFF;\n",
              "    }\n",
              "  </style>\n",
              "\n",
              "      <script>\n",
              "        const buttonEl =\n",
              "          document.querySelector('#df-f792979b-ceb9-408b-9a6b-7702c7adffe9 button.colab-df-convert');\n",
              "        buttonEl.style.display =\n",
              "          google.colab.kernel.accessAllowed ? 'block' : 'none';\n",
              "\n",
              "        async function convertToInteractive(key) {\n",
              "          const element = document.querySelector('#df-f792979b-ceb9-408b-9a6b-7702c7adffe9');\n",
              "          const dataTable =\n",
              "            await google.colab.kernel.invokeFunction('convertToInteractive',\n",
              "                                                     [key], {});\n",
              "          if (!dataTable) return;\n",
              "\n",
              "          const docLinkHtml = 'Like what you see? Visit the ' +\n",
              "            '<a target=\"_blank\" href=https://colab.research.google.com/notebooks/data_table.ipynb>data table notebook</a>'\n",
              "            + ' to learn more about interactive tables.';\n",
              "          element.innerHTML = '';\n",
              "          dataTable['output_type'] = 'display_data';\n",
              "          await google.colab.output.renderOutput(dataTable, element);\n",
              "          const docLink = document.createElement('div');\n",
              "          docLink.innerHTML = docLinkHtml;\n",
              "          element.appendChild(docLink);\n",
              "        }\n",
              "      </script>\n",
              "    </div>\n",
              "  </div>\n",
              "  "
            ]
          },
          "metadata": {},
          "execution_count": 14
        }
      ]
    },
    {
      "cell_type": "code",
      "source": [
        "rules_pdf.to_excel('rules_pdfAnteConseConfLift.xlsx')"
      ],
      "metadata": {
        "id": "dXHNLuo_o1Po"
      },
      "execution_count": 15,
      "outputs": []
    },
    {
      "cell_type": "code",
      "source": [
        "transformed_pdf = transformed.select(\"*\").toPandas()\n",
        "transformed_pdf.head()"
      ],
      "metadata": {
        "colab": {
          "base_uri": "https://localhost:8080/",
          "height": 319
        },
        "id": "ge3NVRwEo2WU",
        "outputId": "50338e06-a41b-46da-d651-32018ce180b9"
      },
      "execution_count": 16,
      "outputs": [
        {
          "output_type": "execute_result",
          "data": {
            "text/plain": [
              "   BillNo                             collect_list(Itemname)  \\\n",
              "0  536365  [KNITTED UNION FLAG HOT WATER BOTTLE, SET 7 BA...   \n",
              "1  536366  [HAND WARMER UNION JACK, HAND WARMER RED POLKA...   \n",
              "2  536367  [BOX OF VINTAGE JIGSAW BLOCKS, FELTCRAFT PRINC...   \n",
              "3  536368  [YELLOW COAT RACK PARIS FASHION, BLUE COAT RAC...   \n",
              "4  536369                         [BATH BUILDING BLOCK WORD]   \n",
              "\n",
              "                                          prediction  \n",
              "0  [JUMBO BAG RED RETROSPOT, REGENCY CAKESTAND 3 ...  \n",
              "1  [HAND WARMER RED LOVE HEART, HAND WARMER RED R...  \n",
              "2  [POPPY'S PLAYHOUSE LIVINGROOM, POPPY'S PLAYHOU...  \n",
              "3  [JAM JAR WITH PINK LID, SMALL HEART MEASURING ...  \n",
              "4                         [HOME BUILDING BLOCK WORD]  "
            ],
            "text/html": [
              "\n",
              "  <div id=\"df-cb30127e-f1b8-4391-a368-a31fe5483b1c\">\n",
              "    <div class=\"colab-df-container\">\n",
              "      <div>\n",
              "<style scoped>\n",
              "    .dataframe tbody tr th:only-of-type {\n",
              "        vertical-align: middle;\n",
              "    }\n",
              "\n",
              "    .dataframe tbody tr th {\n",
              "        vertical-align: top;\n",
              "    }\n",
              "\n",
              "    .dataframe thead th {\n",
              "        text-align: right;\n",
              "    }\n",
              "</style>\n",
              "<table border=\"1\" class=\"dataframe\">\n",
              "  <thead>\n",
              "    <tr style=\"text-align: right;\">\n",
              "      <th></th>\n",
              "      <th>BillNo</th>\n",
              "      <th>collect_list(Itemname)</th>\n",
              "      <th>prediction</th>\n",
              "    </tr>\n",
              "  </thead>\n",
              "  <tbody>\n",
              "    <tr>\n",
              "      <th>0</th>\n",
              "      <td>536365</td>\n",
              "      <td>[KNITTED UNION FLAG HOT WATER BOTTLE, SET 7 BA...</td>\n",
              "      <td>[JUMBO BAG RED RETROSPOT, REGENCY CAKESTAND 3 ...</td>\n",
              "    </tr>\n",
              "    <tr>\n",
              "      <th>1</th>\n",
              "      <td>536366</td>\n",
              "      <td>[HAND WARMER UNION JACK, HAND WARMER RED POLKA...</td>\n",
              "      <td>[HAND WARMER RED LOVE HEART, HAND WARMER RED R...</td>\n",
              "    </tr>\n",
              "    <tr>\n",
              "      <th>2</th>\n",
              "      <td>536367</td>\n",
              "      <td>[BOX OF VINTAGE JIGSAW BLOCKS, FELTCRAFT PRINC...</td>\n",
              "      <td>[POPPY'S PLAYHOUSE LIVINGROOM, POPPY'S PLAYHOU...</td>\n",
              "    </tr>\n",
              "    <tr>\n",
              "      <th>3</th>\n",
              "      <td>536368</td>\n",
              "      <td>[YELLOW COAT RACK PARIS FASHION, BLUE COAT RAC...</td>\n",
              "      <td>[JAM JAR WITH PINK LID, SMALL HEART MEASURING ...</td>\n",
              "    </tr>\n",
              "    <tr>\n",
              "      <th>4</th>\n",
              "      <td>536369</td>\n",
              "      <td>[BATH BUILDING BLOCK WORD]</td>\n",
              "      <td>[HOME BUILDING BLOCK WORD]</td>\n",
              "    </tr>\n",
              "  </tbody>\n",
              "</table>\n",
              "</div>\n",
              "      <button class=\"colab-df-convert\" onclick=\"convertToInteractive('df-cb30127e-f1b8-4391-a368-a31fe5483b1c')\"\n",
              "              title=\"Convert this dataframe to an interactive table.\"\n",
              "              style=\"display:none;\">\n",
              "        \n",
              "  <svg xmlns=\"http://www.w3.org/2000/svg\" height=\"24px\"viewBox=\"0 0 24 24\"\n",
              "       width=\"24px\">\n",
              "    <path d=\"M0 0h24v24H0V0z\" fill=\"none\"/>\n",
              "    <path d=\"M18.56 5.44l.94 2.06.94-2.06 2.06-.94-2.06-.94-.94-2.06-.94 2.06-2.06.94zm-11 1L8.5 8.5l.94-2.06 2.06-.94-2.06-.94L8.5 2.5l-.94 2.06-2.06.94zm10 10l.94 2.06.94-2.06 2.06-.94-2.06-.94-.94-2.06-.94 2.06-2.06.94z\"/><path d=\"M17.41 7.96l-1.37-1.37c-.4-.4-.92-.59-1.43-.59-.52 0-1.04.2-1.43.59L10.3 9.45l-7.72 7.72c-.78.78-.78 2.05 0 2.83L4 21.41c.39.39.9.59 1.41.59.51 0 1.02-.2 1.41-.59l7.78-7.78 2.81-2.81c.8-.78.8-2.07 0-2.86zM5.41 20L4 18.59l7.72-7.72 1.47 1.35L5.41 20z\"/>\n",
              "  </svg>\n",
              "      </button>\n",
              "      \n",
              "  <style>\n",
              "    .colab-df-container {\n",
              "      display:flex;\n",
              "      flex-wrap:wrap;\n",
              "      gap: 12px;\n",
              "    }\n",
              "\n",
              "    .colab-df-convert {\n",
              "      background-color: #E8F0FE;\n",
              "      border: none;\n",
              "      border-radius: 50%;\n",
              "      cursor: pointer;\n",
              "      display: none;\n",
              "      fill: #1967D2;\n",
              "      height: 32px;\n",
              "      padding: 0 0 0 0;\n",
              "      width: 32px;\n",
              "    }\n",
              "\n",
              "    .colab-df-convert:hover {\n",
              "      background-color: #E2EBFA;\n",
              "      box-shadow: 0px 1px 2px rgba(60, 64, 67, 0.3), 0px 1px 3px 1px rgba(60, 64, 67, 0.15);\n",
              "      fill: #174EA6;\n",
              "    }\n",
              "\n",
              "    [theme=dark] .colab-df-convert {\n",
              "      background-color: #3B4455;\n",
              "      fill: #D2E3FC;\n",
              "    }\n",
              "\n",
              "    [theme=dark] .colab-df-convert:hover {\n",
              "      background-color: #434B5C;\n",
              "      box-shadow: 0px 1px 3px 1px rgba(0, 0, 0, 0.15);\n",
              "      filter: drop-shadow(0px 1px 2px rgba(0, 0, 0, 0.3));\n",
              "      fill: #FFFFFF;\n",
              "    }\n",
              "  </style>\n",
              "\n",
              "      <script>\n",
              "        const buttonEl =\n",
              "          document.querySelector('#df-cb30127e-f1b8-4391-a368-a31fe5483b1c button.colab-df-convert');\n",
              "        buttonEl.style.display =\n",
              "          google.colab.kernel.accessAllowed ? 'block' : 'none';\n",
              "\n",
              "        async function convertToInteractive(key) {\n",
              "          const element = document.querySelector('#df-cb30127e-f1b8-4391-a368-a31fe5483b1c');\n",
              "          const dataTable =\n",
              "            await google.colab.kernel.invokeFunction('convertToInteractive',\n",
              "                                                     [key], {});\n",
              "          if (!dataTable) return;\n",
              "\n",
              "          const docLinkHtml = 'Like what you see? Visit the ' +\n",
              "            '<a target=\"_blank\" href=https://colab.research.google.com/notebooks/data_table.ipynb>data table notebook</a>'\n",
              "            + ' to learn more about interactive tables.';\n",
              "          element.innerHTML = '';\n",
              "          dataTable['output_type'] = 'display_data';\n",
              "          await google.colab.output.renderOutput(dataTable, element);\n",
              "          const docLink = document.createElement('div');\n",
              "          docLink.innerHTML = docLinkHtml;\n",
              "          element.appendChild(docLink);\n",
              "        }\n",
              "      </script>\n",
              "    </div>\n",
              "  </div>\n",
              "  "
            ]
          },
          "metadata": {},
          "execution_count": 16
        }
      ]
    },
    {
      "cell_type": "code",
      "source": [
        "transformed_pdf.to_excel('transformed_pdfCollectList.xlsx')"
      ],
      "metadata": {
        "id": "w9QitfwPq5_a"
      },
      "execution_count": 20,
      "outputs": []
    },
    {
      "cell_type": "markdown",
      "source": [
        "### minSupport = 0.006 and minConfidence == 0.006"
      ],
      "metadata": {
        "id": "no2QBxOhrfdf"
      }
    },
    {
      "cell_type": "code",
      "source": [
        "from pyspark.ml.fpm import FPGrowth\n",
        "\n",
        "# Frequent Pattern Growth\n",
        "fpGrowth = FPGrowth(itemsCol=\"collect_list(Itemname)\", minSupport=0.004, minConfidence=0.004) \n",
        "model = fpGrowth.fit(basketdata)\n",
        "\n",
        "# Display frequent itemsets.\n",
        "model.freqItemsets.show()\n",
        "items = model.freqItemsets\n",
        "\n",
        "# Display generated association rules.\n",
        "model.associationRules.show()\n",
        "rules = model.associationRules\n",
        "\n",
        "# Transform examines the input items against all the association rules and summarize the\n",
        "# consequents as prediction\n",
        "model.transform(basketdata).show()\n",
        "transformed = model.transform(basketdata)\n"
      ],
      "metadata": {
        "id": "ddrgDoCDt2TC"
      },
      "execution_count": null,
      "outputs": []
    },
    {
      "cell_type": "code",
      "source": [
        "# Convert the Spark DataFrame back to a Pandas DataFrame using Arrow\n",
        "result_pdf = items.select(\"*\").toPandas()\n",
        "result_pdf.head()"
      ],
      "metadata": {
        "id": "ukvhxW9Brm2q"
      },
      "execution_count": null,
      "outputs": []
    },
    {
      "cell_type": "code",
      "source": [
        "result_pdf.to_excel('result_pdfFreq2.xlsx')"
      ],
      "metadata": {
        "id": "TuYG_J2Erodi"
      },
      "execution_count": null,
      "outputs": []
    },
    {
      "cell_type": "code",
      "source": [
        "rules_pdf = rules.select(\"*\").toPandas()\n",
        "rules_pdf.head()"
      ],
      "metadata": {
        "id": "CWTKlyEnrp8s"
      },
      "execution_count": null,
      "outputs": []
    },
    {
      "cell_type": "code",
      "source": [
        "rules_pdf.to_excel('rules_pdfAnteConseConfLift2.xlsx')"
      ],
      "metadata": {
        "id": "O4g2FTBmrypr"
      },
      "execution_count": null,
      "outputs": []
    },
    {
      "cell_type": "code",
      "source": [
        "transformed_pdf = transformed.select(\"*\").toPandas()\n",
        "transformed_pdf.head()"
      ],
      "metadata": {
        "id": "wsjz8MNxr0Gx"
      },
      "execution_count": null,
      "outputs": []
    },
    {
      "cell_type": "code",
      "source": [
        "transformed_pdf.to_excel('transformed_pdfCollectList2.xlsx')"
      ],
      "metadata": {
        "id": "zV_vRMpUr1XP"
      },
      "execution_count": null,
      "outputs": []
    },
    {
      "cell_type": "markdown",
      "source": [
        "## Summary"
      ],
      "metadata": {
        "id": "7ck175FRr50v"
      }
    },
    {
      "cell_type": "markdown",
      "source": [
        "When comparing the two sets of parameters for a market basket analysis or association rule mining:\n",
        "\n",
        "1. With minSupport = 0.006 and minConfidence = 0.006:\n",
        "\n",
        "- The algorithm looks for itemsets that appear in at least 0.6% of the transactions.\n",
        "- The generated association rules must have a confidence of at least 0.6% to be considered valid.\n",
        "\n",
        "2. With minSupport = 0.004 and minConfidence = 0.004:\n",
        "\n",
        "- The algorithm looks for itemsets that appear in at least 0.4% of the transactions.\n",
        "- The generated association rules must have a confidence of at least 0.4% to be considered valid."
      ],
      "metadata": {
        "id": "WXcGgmposwKV"
      }
    },
    {
      "cell_type": "markdown",
      "source": [
        "Comparing the two sets of parameters:\n",
        "- Lowering the minSupport and minConfidence values from 0.006 to 0.004 will result in more itemsets and association rules being discovered, as the algorithm will consider less frequent and less confident rules.\n",
        "- The output might include less relevant or less significant rules due to the lower thresholds.\n",
        "- The computation time may increase, as the algorithm needs to process a larger number of itemsets and rules."
      ],
      "metadata": {
        "id": "0Y5xhCn5rjju"
      }
    }
  ]
}